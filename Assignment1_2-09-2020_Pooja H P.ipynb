{
 "cells": [
  {
   "cell_type": "code",
   "execution_count": 1,
   "metadata": {},
   "outputs": [
    {
     "name": "stdout",
     "output_type": "stream",
     "text": [
      "(2+1j)\n"
     ]
    }
   ],
   "source": [
    "#1 a program to subtract two complex numbers in Python.\n",
    "a=3+2j\n",
    "b=1+1j\n",
    "print(a-b) \n"
   ]
  },
  {
   "cell_type": "code",
   "execution_count": 1,
   "metadata": {},
   "outputs": [
    {
     "name": "stdout",
     "output_type": "stream",
     "text": [
      "2.8284271247461903\n"
     ]
    }
   ],
   "source": [
    "#2 a program to find the fourth root of a number.\n",
    "a=64\n",
    "print(a**0.25)"
   ]
  },
  {
   "cell_type": "code",
   "execution_count": 4,
   "metadata": {},
   "outputs": [
    {
     "name": "stdout",
     "output_type": "stream",
     "text": [
      "a= 5 b= 3\n"
     ]
    }
   ],
   "source": [
    "#3 a program to swap two numbers in Python with the help of a temporary variable.\n",
    "a=3\n",
    "b=5\n",
    "c=a\n",
    "a=b\n",
    "b=c\n",
    "print(\"a=\",a,\"b=\",b)\n"
   ]
  },
  {
   "cell_type": "code",
   "execution_count": 8,
   "metadata": {},
   "outputs": [
    {
     "name": "stdout",
     "output_type": "stream",
     "text": [
      "a= 5 b= 3\n"
     ]
    }
   ],
   "source": [
    "#4 a program to swap two numbers in Python without using a temporary variable.\n",
    "a=3\n",
    "b=5\n",
    "a,b=b,a\n",
    "print(\"a=\",a,\"b=\",b)"
   ]
  },
  {
   "cell_type": "code",
   "execution_count": 22,
   "metadata": {},
   "outputs": [
    {
     "name": "stdout",
     "output_type": "stream",
     "text": [
      "56 F= 286.3333333333333 K\n",
      "56 F= 13.333333333333334 C\n"
     ]
    }
   ],
   "source": [
    "#5 a program to convert Fahrenheit to kelvin and celsius both.\n",
    "F=56\n",
    "K=(F-32)*5/9+273\n",
    "C=(F-32)*5/9\n",
    "print(F,\"F=\",K,\"K\")\n",
    "print(F,\"F=\",C,\"C\")\n"
   ]
  },
  {
   "cell_type": "code",
   "execution_count": 13,
   "metadata": {},
   "outputs": [
    {
     "name": "stdout",
     "output_type": "stream",
     "text": [
      "<class 'int'>\n",
      "<class 'float'>\n",
      "<class 'str'>\n"
     ]
    }
   ],
   "source": [
    "#6 a program to demonstrate all the available data types in Python. Hint: Use type() function.\n",
    "a=4678\n",
    "b=356.789\n",
    "c=\"python datatypes\"\n",
    "print(type(a))\n",
    "print(type(b))\n",
    "print(type(c))"
   ]
  },
  {
   "cell_type": "markdown",
   "metadata": {},
   "source": [
    "7. Create a Markdown cell in Jupyter and list the steps discussed in the session by Dr. Darshan\n",
    "Ingle sir to create a Github profile and upload the Githubs Assignment link.\n",
    "\n",
    "Steps for creating Github profile has not yet been discussed.\n",
    "\n"
   ]
  }
 ],
 "metadata": {
  "kernelspec": {
   "display_name": "Python 3",
   "language": "python",
   "name": "python3"
  },
  "language_info": {
   "codemirror_mode": {
    "name": "ipython",
    "version": 3
   },
   "file_extension": ".py",
   "mimetype": "text/x-python",
   "name": "python",
   "nbconvert_exporter": "python",
   "pygments_lexer": "ipython3",
   "version": "3.8.3"
  }
 },
 "nbformat": 4,
 "nbformat_minor": 4
}
