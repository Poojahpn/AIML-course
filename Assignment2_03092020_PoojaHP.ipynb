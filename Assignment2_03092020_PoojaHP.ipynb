{
 "cells": [
  {
   "cell_type": "code",
   "execution_count": 27,
   "metadata": {},
   "outputs": [
    {
     "name": "stdout",
     "output_type": "stream",
     "text": [
      "Sum of two complex numbers a and b is (8+7j)\n",
      "Product of two complex numbers  a and b is (3+29j)\n",
      "Difference of two complex  numbers  a and b is (2-1j)\n",
      "Quotient of two complex numbers a and b is (1.08-0.44j)\n"
     ]
    }
   ],
   "source": [
    "#  Implement a Python program to demonstrate addition, subtraction, multiplication, division, floor division, and modulo operations\n",
    "# be performed on complex numbers\n",
    "\n",
    "a=5+3j\n",
    "b=3+4j\n",
    "print(\"Sum of two complex numbers a and b is\",a+b)\n",
    "print(\"Product of two complex numbers  a and b is\",a*b)\n",
    "print(\"Difference of two complex  numbers  a and b is\",a-b)\n",
    "print(\"Quotient of two complex numbers a and b is\",a/b)\n"
   ]
  },
  {
   "cell_type": "markdown",
   "metadata": {},
   "source": [
    "\n",
    "range(Start,stop,size)\n"
   ]
  },
  {
   "cell_type": "code",
   "execution_count": 9,
   "metadata": {},
   "outputs": [
    {
     "name": "stdout",
     "output_type": "stream",
     "text": [
      "20 23 26 29 32 35 38 41 44 47 "
     ]
    }
   ],
   "source": [
    "#Implement a small program of your\n",
    "#choice on the same.\n",
    "\n",
    "for i in range(20,50,3):\n",
    "    print(i,end=\" \")"
   ]
  },
  {
   "cell_type": "code",
   "execution_count": 11,
   "metadata": {},
   "outputs": [
    {
     "name": "stdout",
     "output_type": "stream",
     "text": [
      "quotient= 1.5\n"
     ]
    }
   ],
   "source": [
    "#Consider two numbers. Perform their subtraction and if the result of subtraction is greater than 25, print\n",
    "#their multiplication result else print their division result.\n",
    "\n",
    "a=30\n",
    "b=20\n",
    "if a-b>25:\n",
    "    print(\"product=\",a*b)\n",
    "else:\n",
    "    print(\"quotient=\",a/b)\n"
   ]
  },
  {
   "cell_type": "code",
   "execution_count": 26,
   "metadata": {},
   "outputs": [
    {
     "name": "stdout",
     "output_type": "stream",
     "text": [
      "square of 2 minus 2= 2\n",
      "square of 4 minus 2= 14\n",
      "square of 6 minus 2= 34\n",
      "square of 8 minus 2= 62\n",
      "square of 10 minus 2= 98\n"
     ]
    }
   ],
   "source": [
    "#Consider a list of 10 elements of integer values. If the number in the list is divisible by 2, print the result as\n",
    "#\"square of that number minus 2\".\n",
    "\n",
    "n=[1,2,3,4,5,6,7,8,9,10]\n",
    "for i in n:\n",
    "    if i%2==0:\n",
    "        \n",
    "        print(\"square of\",i,\"minus 2=\",(i**2)-2)\n"
   ]
  },
  {
   "cell_type": "code",
   "execution_count": 25,
   "metadata": {},
   "outputs": [
    {
     "name": "stdout",
     "output_type": "stream",
     "text": [
      "20\n",
      "15\n",
      "30\n",
      "16\n",
      "18\n",
      "30\n",
      "35\n",
      "38\n"
     ]
    }
   ],
   "source": [
    "#Consider a list of 10 elements. Print all the elements in the list which are greater than 7 when that number\n",
    "#is divided 2.\n",
    "\n",
    "n=[20,15,12,30,10,16,18,30,35,38]\n",
    "for i in n:\n",
    "    if i/2>7:\n",
    "        print(i,end=)\n",
    "        \n",
    "    \n"
   ]
  },
  {
   "cell_type": "code",
   "execution_count": null,
   "metadata": {},
   "outputs": [],
   "source": []
  }
 ],
 "metadata": {
  "kernelspec": {
   "display_name": "Python 3",
   "language": "python",
   "name": "python3"
  },
  "language_info": {
   "codemirror_mode": {
    "name": "ipython",
    "version": 3
   },
   "file_extension": ".py",
   "mimetype": "text/x-python",
   "name": "python",
   "nbconvert_exporter": "python",
   "pygments_lexer": "ipython3",
   "version": "3.8.3"
  }
 },
 "nbformat": 4,
 "nbformat_minor": 4
}
