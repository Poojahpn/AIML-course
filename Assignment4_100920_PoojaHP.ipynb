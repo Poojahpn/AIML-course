{
 "cells": [
  {
   "cell_type": "code",
   "execution_count": null,
   "metadata": {},
   "outputs": [],
   "source": [
    "#write a program to print the company name of a given email address.\n",
    "\n",
    "\n",
    "\n",
    "user_string = input(\"Enter the email address \")\n",
    "string1=user_string.strip('.com')\n",
    "index1=string1.find('@')\n",
    "i=index1+1\n",
    "Company_name=\"\"\n",
    "while i<len(string1):\n",
    "    Company_name= Company_name +  string1[i]\n",
    "    i=i+1\n",
    "print (\"Company name is\",Company_name)   \n",
    "    \n"
   ]
  },
  {
   "cell_type": "code",
   "execution_count": 6,
   "metadata": {},
   "outputs": [
    {
     "name": "stdout",
     "output_type": "stream",
     "text": [
      "Enter a comma-separated sequence of words without,hello,bag,world\n",
      "After sorting them alphabetically  bag hello without world\n"
     ]
    }
   ],
   "source": [
    "# Write a program that accepts a comma-separated sequence of words as input and prints the words in a\n",
    "# comma-separated sequence after sorting them alphabetically.\n",
    "\n",
    "user_input1 = input(\"Enter a comma-separated sequence of words \").split(',')\n",
    "\n",
    "user_input1.sort()\n",
    "print(\"After sorting them alphabetically \",' '.join(user_input1))"
   ]
  },
  {
   "cell_type": "code",
   "execution_count": 11,
   "metadata": {
    "scrolled": true
   },
   "outputs": [
    {
     "name": "stdout",
     "output_type": "stream",
     "text": [
      "Enter numbers separated with comma 10,13,15,14,11\n",
      "[10, 11, 13, 14, 15]\n",
      "the missing numbers are  12\n"
     ]
    }
   ],
   "source": [
    "#Given a list of n-1 numbers ranging from 1 to n, your task is to find the missing number. There are no\n",
    "#duplicates.\n",
    "\n",
    "list1= list(map(int,input(\"Enter numbers separated with comma \").split(',')))\n",
    "list1.sort()\n",
    "print(list1)\n",
    "\n",
    "for i in range(0,(len(list1)-1)):\n",
    "    if list1[i+1]==(list1[i]+1):\n",
    "        continue\n",
    "    else:\n",
    "         print(\"the missing numbers are \",list1[i]+1)\n",
    "        \n",
    "        \n",
    "\n"
   ]
  },
  {
   "cell_type": "code",
   "execution_count": 21,
   "metadata": {},
   "outputs": [
    {
     "name": "stdout",
     "output_type": "stream",
     "text": [
      "Enter numbers separated with comma 10,11,12,13,11,10,14\n",
      "[10, 11, 12, 13, 11, 10, 14]\n",
      "10\n",
      "11\n",
      "12\n",
      "13\n",
      "14\n"
     ]
    }
   ],
   "source": [
    "#With a given list L, write a program to print this list L after removing all duplicate values with original order\n",
    "#reserved.\n",
    "\n",
    "list1= list(map(int,input(\"Enter numbers separated with comma \").split(',')))\n",
    "\n",
    "print(list1)\n",
    "\n",
    "for i in range(0,(len(list1))):\n",
    "    flag = 0\n",
    "    for j in range(0,i):\n",
    "        if list1[i]==(list1[j]):\n",
    "            flag =1\n",
    "            break\n",
    "    if flag==0:\n",
    "        print(list1[i])\n"
   ]
  },
  {
   "cell_type": "code",
   "execution_count": null,
   "metadata": {},
   "outputs": [],
   "source": []
  },
  {
   "cell_type": "code",
   "execution_count": null,
   "metadata": {},
   "outputs": [],
   "source": []
  }
 ],
 "metadata": {
  "kernelspec": {
   "display_name": "Python 3",
   "language": "python",
   "name": "python3"
  },
  "language_info": {
   "codemirror_mode": {
    "name": "ipython",
    "version": 3
   },
   "file_extension": ".py",
   "mimetype": "text/x-python",
   "name": "python",
   "nbconvert_exporter": "python",
   "pygments_lexer": "ipython3",
   "version": "3.8.3"
  }
 },
 "nbformat": 4,
 "nbformat_minor": 4
}
